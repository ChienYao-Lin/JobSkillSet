{
 "cells": [
  {
   "cell_type": "markdown",
   "id": "e13701e5",
   "metadata": {},
   "source": [
    "# Model Training and Evaluation\n",
    "## Import package"
   ]
  },
  {
   "cell_type": "code",
   "execution_count": 1,
   "id": "2a2e2c30",
   "metadata": {},
   "outputs": [],
   "source": [
    "from spacy.tokens import DocBin\n",
    "import spacy\n",
    "import json\n",
    "import random"
   ]
  },
  {
   "cell_type": "markdown",
   "id": "2047e93b",
   "metadata": {},
   "source": [
    "## Convert the data from json format to spaCy data format\n",
    "### Load json data"
   ]
  },
  {
   "cell_type": "code",
   "execution_count": 2,
   "id": "3a77c912",
   "metadata": {},
   "outputs": [],
   "source": [
    "with open(\"../data/ad_data_labeled.json\", \"r\", encoding = \"utf-8\") as f:\n",
    "    data = json.load(f)"
   ]
  },
  {
   "cell_type": "code",
   "execution_count": 3,
   "id": "8f537a98",
   "metadata": {
    "scrolled": true
   },
   "outputs": [
    {
     "data": {
      "text/plain": [
       "['We could talk about RSL Queensland’s flexible work arrangements, its fully stocked kitchens and fridges and our Benefits Hub.',\n",
       " {'entities': [[20, 23, 'SKILL'], [121, 124, 'SKILL']]}]"
      ]
     },
     "execution_count": 3,
     "metadata": {},
     "output_type": "execute_result"
    }
   ],
   "source": [
    "data[0]"
   ]
  },
  {
   "cell_type": "markdown",
   "id": "c55217f8",
   "metadata": {},
   "source": [
    "### Convert data\n",
    "First of all, I split the processed data into three part(training, testing and validation) with the ratio 4:1:1 and then convert them to .spacy file, which is a new data format in spaCy v3."
   ]
  },
  {
   "cell_type": "code",
   "execution_count": 4,
   "id": "558eb303",
   "metadata": {},
   "outputs": [],
   "source": [
    "def convert_data(data, path):\n",
    "    nlp = spacy.blank('en')\n",
    "    db = DocBin()\n",
    "    for text, annotations in data:\n",
    "        doc = nlp(text)\n",
    "        ents = []\n",
    "        for start, end, label in annotations['entities']:\n",
    "            span = doc.char_span(start, end, label=label)\n",
    "            ents.append(span)\n",
    "        doc.ents = ents\n",
    "        db.add(doc)\n",
    "    db.to_disk(path)\n",
    "\n",
    "training_size = round(len(data)*2/3)\n",
    "test_size = round((len(data) - training_size)/2)\n",
    "random.shuffle(data)\n",
    "TRAIN_DATA = data[0: training_size]\n",
    "TEST_DATA = data[training_size:training_size+test_size]\n",
    "VALID_DATA = data[training_size+test_size:]\n",
    "\n",
    "convert_data(TRAIN_DATA, \"../data/train.spacy\")\n",
    "convert_data(TEST_DATA, \"../data/test.spacy\")\n",
    "convert_data(VALID_DATA, \"../data/dev.spacy\")\n"
   ]
  },
  {
   "cell_type": "markdown",
   "id": "80a1ee92",
   "metadata": {},
   "source": [
    "## Train the model\n",
    "Instead of python script, spaCy v3 use command line to train the model. The more information can be found [here](https://spacy.io/usage/training#quickstart)."
   ]
  },
  {
   "cell_type": "code",
   "execution_count": null,
   "id": "8d55b72a",
   "metadata": {
    "scrolled": true
   },
   "outputs": [
    {
     "name": "stdout",
     "output_type": "stream",
     "text": [
      "\u001b[38;5;4mℹ Saving to output directory: ../model/NER_spacy_v3\u001b[0m\n",
      "\u001b[38;5;4mℹ Using CPU\u001b[0m\n",
      "\u001b[1m\n",
      "=========================== Initializing pipeline ===========================\u001b[0m\n",
      "[2021-12-09 01:26:13,109] [INFO] Set up nlp object from config\n",
      "[2021-12-09 01:26:13,115] [INFO] Pipeline: ['tok2vec', 'ner']\n",
      "[2021-12-09 01:26:13,118] [INFO] Created vocabulary\n",
      "[2021-12-09 01:26:13,119] [INFO] Finished initializing nlp object\n",
      "[2021-12-09 01:26:16,408] [INFO] Initialized pipeline components: ['tok2vec', 'ner']\n",
      "\u001b[38;5;2m✔ Initialized pipeline\u001b[0m\n",
      "\u001b[1m\n",
      "============================= Training pipeline =============================\u001b[0m\n",
      "\u001b[38;5;4mℹ Pipeline: ['tok2vec', 'ner']\u001b[0m\n",
      "\u001b[38;5;4mℹ Initial learn rate: 0.001\u001b[0m\n",
      "E    #       LOSS TOK2VEC  LOSS NER  ENTS_F  ENTS_P  ENTS_R  SCORE \n",
      "---  ------  ------------  --------  ------  ------  ------  ------\n",
      "  0       0          0.00     36.00    1.91    3.08    1.38    0.02\n",
      "  0     200        101.76   3523.92   70.24   76.70   64.78    0.70\n",
      "  0     400        108.73   2239.23   77.68   84.67   71.75    0.78\n",
      "  0     600        131.11   2169.82   82.46   86.43   78.83    0.82\n",
      "  1     800        135.11   2233.56   83.33   83.60   83.07    0.83\n",
      "  1    1000        177.51   1722.90   86.71   88.28   85.20    0.87\n",
      "  1    1200        232.23   2156.20   86.55   88.35   84.82    0.87\n",
      "  2    1400        270.07   1610.58   86.89   88.69   85.17    0.87\n",
      "  3    1600        256.59   1671.01   88.10   88.89   87.33    0.88\n",
      "  4    1800        321.57   1532.08   88.93   89.51   88.37    0.89\n",
      "  5    2000        408.67   1289.90   88.84   89.96   87.75    0.89\n",
      "  7    2200        449.48   1259.34   89.91   91.21   88.66    0.90\n",
      "  8    2400        503.88   1024.15   89.76   90.35   89.19    0.90\n",
      " 10    2600        587.57    857.96   90.17   90.50   89.83    0.90\n",
      " 12    2800        549.07    744.64   89.99   90.47   89.51    0.90\n",
      " 14    3000        457.05    700.20   89.74   89.83   89.64    0.90\n",
      " 16    3200        481.10    592.23   90.42   91.31   89.54    0.90\n",
      " 17    3400        509.53    535.48   90.40   91.15   89.67    0.90\n",
      " 19    3600        448.08    465.53   90.74   91.36   90.12    0.91\n",
      " 21    3800        532.53    451.22   90.28   91.29   89.30    0.90\n",
      " 23    4000        486.38    450.39   90.42   91.24   89.62    0.90\n",
      " 25    4200        484.25    406.79   90.29   91.22   89.38    0.90\n"
     ]
    }
   ],
   "source": [
    "!python -m spacy train config.cfg --output ../model/NER_spacy_v3"
   ]
  },
  {
   "cell_type": "markdown",
   "id": "45d140c7",
   "metadata": {},
   "source": [
    "## Evaluate the model\n",
    "Most of skill entities can be found in this model, such as R, Python, coding data and so on. Some mislabeling might happen because the error from scraping data stage, such as learningTimeseries. The errors might also caused from the annotations while data preparation. For example. \"IT (information technology)\" and \"it\" may consider as the same word."
   ]
  },
  {
   "cell_type": "code",
   "execution_count": null,
   "id": "1f11fa39",
   "metadata": {
    "scrolled": true
   },
   "outputs": [],
   "source": [
    "from spacy import displacy\n",
    "nlp = spacy.load(\"../model/NER_spacy_v3/model-best\")\n",
    "for i in range(10):\n",
    "    test_text = TEST_DATA[i][0]\n",
    "    doc = nlp(test_text)\n",
    "    displacy.render(doc, style=\"ent\")"
   ]
  },
  {
   "cell_type": "markdown",
   "id": "b7df02f9",
   "metadata": {},
   "source": [
    "The model has 91% accuracy, 89% recall and 90% F1-score, which means it catches the entity well. To improve the performance, the dataset annotation should be done manually instead of rule-based matching."
   ]
  },
  {
   "cell_type": "code",
   "execution_count": null,
   "id": "9235cca7",
   "metadata": {},
   "outputs": [],
   "source": [
    "!python -m spacy evaluate ../model/NER_spacy_v3/model-best ../data/test.spacy"
   ]
  },
  {
   "cell_type": "code",
   "execution_count": null,
   "id": "cc932ca3",
   "metadata": {},
   "outputs": [],
   "source": []
  }
 ],
 "metadata": {
  "kernelspec": {
   "display_name": "Python 3 (ipykernel)",
   "language": "python",
   "name": "python3"
  },
  "language_info": {
   "codemirror_mode": {
    "name": "ipython",
    "version": 3
   },
   "file_extension": ".py",
   "mimetype": "text/x-python",
   "name": "python",
   "nbconvert_exporter": "python",
   "pygments_lexer": "ipython3",
   "version": "3.9.7"
  }
 },
 "nbformat": 4,
 "nbformat_minor": 5
}
