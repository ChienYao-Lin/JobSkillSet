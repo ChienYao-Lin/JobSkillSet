{
 "cells": [
  {
   "cell_type": "markdown",
   "id": "e13701e5",
   "metadata": {},
   "source": [
    "# Model Training and Evaluation\n",
    "## Import package"
   ]
  },
  {
   "cell_type": "code",
   "execution_count": 1,
   "id": "2a2e2c30",
   "metadata": {},
   "outputs": [],
   "source": [
    "from spacy.tokens import DocBin\n",
    "import spacy\n",
    "import json\n",
    "import random"
   ]
  },
  {
   "cell_type": "markdown",
   "id": "2047e93b",
   "metadata": {},
   "source": [
    "## Convert the data from json format to spaCy data format\n",
    "### Load json data"
   ]
  },
  {
   "cell_type": "code",
   "execution_count": 2,
   "id": "3a77c912",
   "metadata": {},
   "outputs": [],
   "source": [
    "with open(\"../data/ad_data_labeled.json\", \"r\", encoding = \"utf-8\") as f:\n",
    "    data = json.load(f)"
   ]
  },
  {
   "cell_type": "code",
   "execution_count": 3,
   "id": "8f537a98",
   "metadata": {
    "scrolled": true
   },
   "outputs": [
    {
     "data": {
      "text/plain": [
       "['Relevant tertiary qualification e.g., Health Information Management, Health Informatics, Public Health.',\n",
       " {'entities': [[38, 67, 'SKILL'], [69, 87, 'SKILL'], [89, 102, 'SKILL']]}]"
      ]
     },
     "execution_count": 3,
     "metadata": {},
     "output_type": "execute_result"
    }
   ],
   "source": [
    "data[0]"
   ]
  },
  {
   "cell_type": "markdown",
   "id": "c55217f8",
   "metadata": {},
   "source": [
    "### Convert data\n",
    "First of all, I split the processed data into three part(training, testing and validation) with the ratio 4:1:1 and then convert them to .spacy file, which is a new data format in spaCy v3."
   ]
  },
  {
   "cell_type": "code",
   "execution_count": 4,
   "id": "558eb303",
   "metadata": {},
   "outputs": [],
   "source": [
    "def convert_data(data, path):\n",
    "    nlp = spacy.blank('en')\n",
    "    db = DocBin()\n",
    "    for text, annotations in data:\n",
    "        doc = nlp(text)\n",
    "        ents = []\n",
    "        for start, end, label in annotations['entities']:\n",
    "            span = doc.char_span(start, end, label=label)\n",
    "            ents.append(span)\n",
    "        doc.ents = ents\n",
    "        db.add(doc)\n",
    "    db.to_disk(path)\n",
    "\n",
    "training_size = round(len(data)*2/3)\n",
    "test_size = round((len(data) - training_size)/2)\n",
    "random.shuffle(data)\n",
    "TRAIN_DATA = data[0: training_size]\n",
    "TEST_DATA = data[training_size:training_size+test_size]\n",
    "VALID_DATA = data[training_size+test_size:]\n",
    "\n",
    "convert_data(TRAIN_DATA, \"../data/train.spacy\")\n",
    "convert_data(TEST_DATA, \"../data/test.spacy\")\n",
    "convert_data(VALID_DATA, \"../data/dev.spacy\")\n"
   ]
  },
  {
   "cell_type": "markdown",
   "id": "80a1ee92",
   "metadata": {},
   "source": [
    "## Train the model\n",
    "Instead of python script, spaCy v3 use command line to train the model. The more information can be found [here](https://spacy.io/usage/training#quickstart)."
   ]
  },
  {
   "cell_type": "code",
   "execution_count": 5,
   "id": "8d55b72a",
   "metadata": {
    "scrolled": true
   },
   "outputs": [
    {
     "name": "stdout",
     "output_type": "stream",
     "text": [
      "\u001b[38;5;4mℹ Saving to output directory: ../model/NER_spacy_v3\u001b[0m\n",
      "\u001b[38;5;4mℹ Using CPU\u001b[0m\n",
      "\u001b[1m\n",
      "=========================== Initializing pipeline ===========================\u001b[0m\n",
      "[2021-12-06 19:47:44,417] [INFO] Set up nlp object from config\n",
      "[2021-12-06 19:47:44,423] [INFO] Pipeline: ['tok2vec', 'ner']\n",
      "[2021-12-06 19:47:44,425] [INFO] Created vocabulary\n",
      "[2021-12-06 19:47:44,426] [INFO] Finished initializing nlp object\n",
      "[2021-12-06 19:47:48,134] [INFO] Initialized pipeline components: ['tok2vec', 'ner']\n",
      "\u001b[38;5;2m✔ Initialized pipeline\u001b[0m\n",
      "\u001b[1m\n",
      "============================= Training pipeline =============================\u001b[0m\n",
      "\u001b[38;5;4mℹ Pipeline: ['tok2vec', 'ner']\u001b[0m\n",
      "\u001b[38;5;4mℹ Initial learn rate: 0.001\u001b[0m\n",
      "E    #       LOSS TOK2VEC  LOSS NER  ENTS_F  ENTS_P  ENTS_R  SCORE \n",
      "---  ------  ------------  --------  ------  ------  ------  ------\n",
      "  0       0          0.00     43.00    3.14    4.21    2.51    0.03\n",
      "  0     200        118.69   3781.72   68.73   78.20   61.31    0.69\n",
      "  0     400        127.62   2387.33   77.65   81.32   74.29    0.78\n",
      "  0     600        121.24   2295.21   81.27   83.57   79.08    0.81\n",
      "  0     800        148.03   2370.86   84.54   87.39   81.87    0.85\n",
      "  1    1000        166.24   1901.61   84.48   84.22   84.74    0.84\n",
      "  1    1200        213.16   2161.55   85.84   85.08   86.61    0.86\n",
      "  2    1400        212.29   1757.63   87.62   87.25   87.98    0.88\n",
      "  3    1600        296.00   1791.06   88.43   89.61   87.27    0.88\n",
      "  4    1800        348.66   1686.32   88.97   90.44   87.55    0.89\n",
      "  5    2000        439.66   1630.54   89.61   90.57   88.67    0.90\n",
      "  6    2200        522.38   1389.84   89.68   89.89   89.48    0.90\n",
      "  8    2400        677.30   1279.03   89.60   89.66   89.53    0.90\n",
      " 10    2600        533.62    970.47   89.82   89.52   90.11    0.90\n",
      " 11    2800        554.82    926.41   89.57   89.11   90.04    0.90\n",
      " 13    3000        569.61    805.35   89.61   88.94   90.29    0.90\n",
      " 15    3200        507.32    659.11   89.91   89.36   90.47    0.90\n",
      " 16    3400        578.53    726.28   89.57   89.76   89.38    0.90\n",
      " 18    3600        434.05    549.90   90.05   90.82   89.30    0.90\n",
      " 20    3800        515.53    583.07   89.96   89.84   90.09    0.90\n",
      " 22    4000        551.07    554.18   89.76   90.05   89.48    0.90\n",
      " 23    4200        553.41    531.76   89.52   90.13   88.92    0.90\n",
      " 25    4400        555.10    414.98   90.06   89.73   90.39    0.90\n",
      " 27    4600        626.99    480.41   90.01   89.80   90.21    0.90\n",
      " 29    4800        510.99    440.91   89.74   89.67   89.81    0.90\n",
      " 30    5000        537.02    412.00   90.34   90.80   89.88    0.90\n",
      " 32    5200        610.87    415.19   89.72   90.51   88.95    0.90\n",
      " 34    5400        594.55    429.12   89.15   88.54   89.76    0.89\n",
      " 35    5600        525.98    371.85   90.10   89.98   90.21    0.90\n",
      " 37    5800        586.00    335.02   90.17   90.60   89.73    0.90\n",
      " 39    6000        658.39    320.84   90.26   90.54   89.98    0.90\n",
      " 41    6200        716.33    377.14   89.95   89.28   90.62    0.90\n",
      " 42    6400        710.35    326.63   89.99   89.96   90.01    0.90\n",
      " 44    6600        752.26    320.12   90.39   90.64   90.14    0.90\n",
      " 46    6800        709.50    296.13   90.22   90.05   90.39    0.90\n",
      " 47    7000        846.22    326.86   89.74   89.57   89.91    0.90\n",
      " 49    7200        923.93    302.94   90.23   90.70   89.76    0.90\n",
      " 51    7400        849.46    278.58   89.94   89.67   90.21    0.90\n",
      " 53    7600        997.99    340.02   90.32   90.55   90.09    0.90\n",
      " 54    7800        853.14    285.19   90.18   90.27   90.09    0.90\n",
      " 56    8000        967.39    257.72   90.25   90.51   89.98    0.90\n",
      " 58    8200        926.61    215.60   90.01   90.51   89.50    0.90\n",
      "\u001b[38;5;2m✔ Saved pipeline to output directory\u001b[0m\n",
      "../model/NER_spacy_v3/model-last\n"
     ]
    }
   ],
   "source": [
    "!python -m spacy train config.cfg --output ../model/NER_spacy_v3"
   ]
  },
  {
   "cell_type": "markdown",
   "id": "45d140c7",
   "metadata": {},
   "source": [
    "## Evaluate the model\n",
    "Most of skill entities can be found in this model, such as R, Python, coding data and so on. Some mislabeling might happen because the error from scraping data stage, such as learningTimeseries. The errors might also caused from the annotations while data preparation. For example. \"IT (information technology)\" and \"it\" may consider as the same word."
   ]
  },
  {
   "cell_type": "code",
   "execution_count": 6,
   "id": "1f11fa39",
   "metadata": {
    "scrolled": true
   },
   "outputs": [
    {
     "data": {
      "text/html": [
       "<span class=\"tex2jax_ignore\"><div class=\"entities\" style=\"line-height: 2.5; direction: ltr\">The \n",
       "<mark class=\"entity\" style=\"background: #ddd; padding: 0.45em 0.6em; margin: 0 0.25em; line-height: 1; border-radius: 0.35em;\">\n",
       "    classroom training\n",
       "    <span style=\"font-size: 0.8em; font-weight: bold; line-height: 1; border-radius: 0.35em; vertical-align: middle; margin-left: 0.5rem\">SKILL</span>\n",
       "</mark>\n",
       " is followed by four 6-month client \n",
       "<mark class=\"entity\" style=\"background: #ddd; padding: 0.45em 0.6em; margin: 0 0.25em; line-height: 1; border-radius: 0.35em;\">\n",
       "    engagements\n",
       "    <span style=\"font-size: 0.8em; font-weight: bold; line-height: 1; border-radius: 0.35em; vertical-align: middle; margin-left: 0.5rem\">SKILL</span>\n",
       "</mark>\n",
       " with Australia's leading organisations to give you real-world experience to kick-start your new career.</div></span>"
      ],
      "text/plain": [
       "<IPython.core.display.HTML object>"
      ]
     },
     "metadata": {},
     "output_type": "display_data"
    },
    {
     "data": {
      "text/html": [
       "<span class=\"tex2jax_ignore\"><div class=\"entities\" style=\"line-height: 2.5; direction: ltr\">Ensuring that systems are adequately developed, tested, and are \n",
       "<mark class=\"entity\" style=\"background: #ddd; padding: 0.45em 0.6em; margin: 0 0.25em; line-height: 1; border-radius: 0.35em;\">\n",
       "    fit\n",
       "    <span style=\"font-size: 0.8em; font-weight: bold; line-height: 1; border-radius: 0.35em; vertical-align: middle; margin-left: 0.5rem\">SKILL</span>\n",
       "</mark>\n",
       " for purpose. </div></span>"
      ],
      "text/plain": [
       "<IPython.core.display.HTML object>"
      ]
     },
     "metadata": {},
     "output_type": "display_data"
    },
    {
     "data": {
      "text/html": [
       "<span class=\"tex2jax_ignore\"><div class=\"entities\" style=\"line-height: 2.5; direction: ltr\">This role presents itself as a great opportunity for a recent graduate or analyst looking to take their next \n",
       "<mark class=\"entity\" style=\"background: #ddd; padding: 0.45em 0.6em; margin: 0 0.25em; line-height: 1; border-radius: 0.35em;\">\n",
       "    step\n",
       "    <span style=\"font-size: 0.8em; font-weight: bold; line-height: 1; border-radius: 0.35em; vertical-align: middle; margin-left: 0.5rem\">SKILL</span>\n",
       "</mark>\n",
       " in their career.</div></span>"
      ],
      "text/plain": [
       "<IPython.core.display.HTML object>"
      ]
     },
     "metadata": {},
     "output_type": "display_data"
    },
    {
     "data": {
      "text/html": [
       "<span class=\"tex2jax_ignore\"><div class=\"entities\" style=\"line-height: 2.5; direction: ltr\">Demonstrated \n",
       "<mark class=\"entity\" style=\"background: #ddd; padding: 0.45em 0.6em; margin: 0 0.25em; line-height: 1; border-radius: 0.35em;\">\n",
       "    customer\n",
       "    <span style=\"font-size: 0.8em; font-weight: bold; line-height: 1; border-radius: 0.35em; vertical-align: middle; margin-left: 0.5rem\">SKILL</span>\n",
       "</mark>\n",
       " \n",
       "<mark class=\"entity\" style=\"background: #ddd; padding: 0.45em 0.6em; margin: 0 0.25em; line-height: 1; border-radius: 0.35em;\">\n",
       "    centricity\n",
       "    <span style=\"font-size: 0.8em; font-weight: bold; line-height: 1; border-radius: 0.35em; vertical-align: middle; margin-left: 0.5rem\">SKILL</span>\n",
       "</mark>\n",
       " / \n",
       "<mark class=\"entity\" style=\"background: #ddd; padding: 0.45em 0.6em; margin: 0 0.25em; line-height: 1; border-radius: 0.35em;\">\n",
       "    focus\n",
       "    <span style=\"font-size: 0.8em; font-weight: bold; line-height: 1; border-radius: 0.35em; vertical-align: middle; margin-left: 0.5rem\">SKILL</span>\n",
       "</mark>\n",
       "</div></span>"
      ],
      "text/plain": [
       "<IPython.core.display.HTML object>"
      ]
     },
     "metadata": {},
     "output_type": "display_data"
    },
    {
     "data": {
      "text/html": [
       "<span class=\"tex2jax_ignore\"><div class=\"entities\" style=\"line-height: 2.5; direction: ltr\">Find out more about our inclusion, diversity and \n",
       "<mark class=\"entity\" style=\"background: #ddd; padding: 0.45em 0.6em; margin: 0 0.25em; line-height: 1; border-radius: 0.35em;\">\n",
       "    access\n",
       "    <span style=\"font-size: 0.8em; font-weight: bold; line-height: 1; border-radius: 0.35em; vertical-align: middle; margin-left: 0.5rem\">SKILL</span>\n",
       "</mark>\n",
       " initiatives.</div></span>"
      ],
      "text/plain": [
       "<IPython.core.display.HTML object>"
      ]
     },
     "metadata": {},
     "output_type": "display_data"
    },
    {
     "data": {
      "text/html": [
       "<span class=\"tex2jax_ignore\"><div class=\"entities\" style=\"line-height: 2.5; direction: ltr\">\n",
       "<mark class=\"entity\" style=\"background: #ddd; padding: 0.45em 0.6em; margin: 0 0.25em; line-height: 1; border-radius: 0.35em;\">\n",
       "    Email\n",
       "    <span style=\"font-size: 0.8em; font-weight: bold; line-height: 1; border-radius: 0.35em; vertical-align: middle; margin-left: 0.5rem\">SKILL</span>\n",
       "</mark>\n",
       ": anthony@bentleyrecruitment.com.au </div></span>"
      ],
      "text/plain": [
       "<IPython.core.display.HTML object>"
      ]
     },
     "metadata": {},
     "output_type": "display_data"
    },
    {
     "data": {
      "text/html": [
       "<span class=\"tex2jax_ignore\"><div class=\"entities\" style=\"line-height: 2.5; direction: ltr\">2+ years of \n",
       "<mark class=\"entity\" style=\"background: #ddd; padding: 0.45em 0.6em; margin: 0 0.25em; line-height: 1; border-radius: 0.35em;\">\n",
       "    data science\n",
       "    <span style=\"font-size: 0.8em; font-weight: bold; line-height: 1; border-radius: 0.35em; vertical-align: middle; margin-left: 0.5rem\">SKILL</span>\n",
       "</mark>\n",
       " experienceSupervised and unsupervised learningTimeseries modelingHypothesis</div></span>"
      ],
      "text/plain": [
       "<IPython.core.display.HTML object>"
      ]
     },
     "metadata": {},
     "output_type": "display_data"
    },
    {
     "data": {
      "text/html": [
       "<span class=\"tex2jax_ignore\"><div class=\"entities\" style=\"line-height: 2.5; direction: ltr\">Coding and re-\n",
       "<mark class=\"entity\" style=\"background: #ddd; padding: 0.45em 0.6em; margin: 0 0.25em; line-height: 1; border-radius: 0.35em;\">\n",
       "    coding data\n",
       "    <span style=\"font-size: 0.8em; font-weight: bold; line-height: 1; border-radius: 0.35em; vertical-align: middle; margin-left: 0.5rem\">SKILL</span>\n",
       "</mark>\n",
       " contained within various \n",
       "<mark class=\"entity\" style=\"background: #ddd; padding: 0.45em 0.6em; margin: 0 0.25em; line-height: 1; border-radius: 0.35em;\">\n",
       "    databases\n",
       "    <span style=\"font-size: 0.8em; font-weight: bold; line-height: 1; border-radius: 0.35em; vertical-align: middle; margin-left: 0.5rem\">SKILL</span>\n",
       "</mark>\n",
       " to identify patterns.</div></span>"
      ],
      "text/plain": [
       "<IPython.core.display.HTML object>"
      ]
     },
     "metadata": {},
     "output_type": "display_data"
    },
    {
     "data": {
      "text/html": [
       "<span class=\"tex2jax_ignore\"><div class=\"entities\" style=\"line-height: 2.5; direction: ltr\">Knowledge and experience of data \n",
       "<mark class=\"entity\" style=\"background: #ddd; padding: 0.45em 0.6em; margin: 0 0.25em; line-height: 1; border-radius: 0.35em;\">\n",
       "    Visualisation\n",
       "    <span style=\"font-size: 0.8em; font-weight: bold; line-height: 1; border-radius: 0.35em; vertical-align: middle; margin-left: 0.5rem\">SKILL</span>\n",
       "</mark>\n",
       " applications and techniques, technologies, trends and solutions.  </div></span>"
      ],
      "text/plain": [
       "<IPython.core.display.HTML object>"
      ]
     },
     "metadata": {},
     "output_type": "display_data"
    },
    {
     "data": {
      "text/html": [
       "<span class=\"tex2jax_ignore\"><div class=\"entities\" style=\"line-height: 2.5; direction: ltr\">Expert understanding of data modelling techniques, tools/language - \n",
       "<mark class=\"entity\" style=\"background: #ddd; padding: 0.45em 0.6em; margin: 0 0.25em; line-height: 1; border-radius: 0.35em;\">\n",
       "    R\n",
       "    <span style=\"font-size: 0.8em; font-weight: bold; line-height: 1; border-radius: 0.35em; vertical-align: middle; margin-left: 0.5rem\">SKILL</span>\n",
       "</mark>\n",
       ", \n",
       "<mark class=\"entity\" style=\"background: #ddd; padding: 0.45em 0.6em; margin: 0 0.25em; line-height: 1; border-radius: 0.35em;\">\n",
       "    Python\n",
       "    <span style=\"font-size: 0.8em; font-weight: bold; line-height: 1; border-radius: 0.35em; vertical-align: middle; margin-left: 0.5rem\">SKILL</span>\n",
       "</mark>\n",
       ", \n",
       "<mark class=\"entity\" style=\"background: #ddd; padding: 0.45em 0.6em; margin: 0 0.25em; line-height: 1; border-radius: 0.35em;\">\n",
       "    Scala\n",
       "    <span style=\"font-size: 0.8em; font-weight: bold; line-height: 1; border-radius: 0.35em; vertical-align: middle; margin-left: 0.5rem\">SKILL</span>\n",
       "</mark>\n",
       ", \n",
       "<mark class=\"entity\" style=\"background: #ddd; padding: 0.45em 0.6em; margin: 0 0.25em; line-height: 1; border-radius: 0.35em;\">\n",
       "    SAS\n",
       "    <span style=\"font-size: 0.8em; font-weight: bold; line-height: 1; border-radius: 0.35em; vertical-align: middle; margin-left: 0.5rem\">SKILL</span>\n",
       "</mark>\n",
       ", etc.</div></span>"
      ],
      "text/plain": [
       "<IPython.core.display.HTML object>"
      ]
     },
     "metadata": {},
     "output_type": "display_data"
    }
   ],
   "source": [
    "from spacy import displacy\n",
    "nlp = spacy.load(\"../model/NER_spacy_v3/model-best\")\n",
    "for i in range(10):\n",
    "    test_text = TEST_DATA[i][0]\n",
    "    doc = nlp(test_text)\n",
    "    displacy.render(doc, style=\"ent\")"
   ]
  },
  {
   "cell_type": "markdown",
   "id": "b7df02f9",
   "metadata": {},
   "source": [
    "The model has 91% accuracy, 89% recall and 90% F1-score, which means it catches the entity well. To improve the performance, the dataset annotation should be done manually instead of rule-based matching."
   ]
  },
  {
   "cell_type": "code",
   "execution_count": 7,
   "id": "9235cca7",
   "metadata": {},
   "outputs": [
    {
     "name": "stdout",
     "output_type": "stream",
     "text": [
      "\u001b[38;5;4mℹ Using CPU\u001b[0m\n",
      "\u001b[1m\n",
      "================================== Results ==================================\u001b[0m\n",
      "\n",
      "TOK     100.00\n",
      "NER P   91.15 \n",
      "NER R   89.60 \n",
      "NER F   90.37 \n",
      "SPEED   26462 \n",
      "\n",
      "\u001b[1m\n",
      "=============================== NER (per type) ===============================\u001b[0m\n",
      "\n",
      "            P       R       F\n",
      "SKILL   91.15   89.60   90.37\n",
      "\n"
     ]
    }
   ],
   "source": [
    "!python -m spacy evaluate ../model/NER_spacy_v3/model-best ../data/test.spacy"
   ]
  },
  {
   "cell_type": "code",
   "execution_count": null,
   "id": "cc932ca3",
   "metadata": {},
   "outputs": [],
   "source": []
  }
 ],
 "metadata": {
  "kernelspec": {
   "display_name": "Python 3 (ipykernel)",
   "language": "python",
   "name": "python3"
  },
  "language_info": {
   "codemirror_mode": {
    "name": "ipython",
    "version": 3
   },
   "file_extension": ".py",
   "mimetype": "text/x-python",
   "name": "python",
   "nbconvert_exporter": "python",
   "pygments_lexer": "ipython3",
   "version": "3.9.7"
  }
 },
 "nbformat": 4,
 "nbformat_minor": 5
}
